{
 "cells": [
  {
   "cell_type": "markdown",
   "metadata": {},
   "source": [
    "<div align=\"right\"><h8><i>Cristina Cristalli - 838022<br>\n",
    "Francesca Franzese - 847780<br>\n",
    "    <b>Progetto Social Media Analytics<br>\n",
    "        CdL Data Science 2020</b></h8></div>"
   ]
  },
  {
   "cell_type": "markdown",
   "metadata": {},
   "source": [
    "## Acquisizione dati"
   ]
  },
  {
   "cell_type": "code",
   "execution_count": 1,
   "metadata": {},
   "outputs": [],
   "source": [
    "import tweepy\n",
    "import csv\n",
    "import pandas as pd\n",
    "import time\n",
    "import sys\n",
    "import random"
   ]
  },
  {
   "cell_type": "markdown",
   "metadata": {},
   "source": [
    "<h3>Raccolta dati tramite Twitter Api, estrapolazione delle informazioni utili all'analisi e salvataggio di esse in un file formato csv</h3>"
   ]
  },
  {
   "cell_type": "markdown",
   "metadata": {},
   "source": [
    "Autenticazione a Twitter per poter utilizzare la libreria Tweepy"
   ]
  },
  {
   "cell_type": "code",
   "execution_count": 2,
   "metadata": {},
   "outputs": [],
   "source": [
    "consumer_key = \"B9R53BadTipxlcI8CFdAyWXpb\"\n",
    "consumer_secret = \"q1fvfcFjbalzgREtt1MCpZrgW6ym4kTTDMMVqn92wkuRQBlfQD\"\n",
    "access_key = \"4197159183-HwAwGeV0wTBkt01CxCp2si0MdV2ej§BJHqQWc4OW\"\n",
    "access_secret = \"S1tNqtNZre7fZnjNMRmgX6GmzRUFpMVG1YT2P7RfB4kjq\""
   ]
  },
  {
   "cell_type": "code",
   "execution_count": 3,
   "metadata": {},
   "outputs": [],
   "source": [
    "OAUTH_KEYS = {'consumer_key':consumer_key, 'consumer_secret':consumer_secret,'access_token_key':access_key, \n",
    "              'access_token_secret':access_secret}\n",
    "\n",
    "auth = tweepy.OAuthHandler(OAUTH_KEYS['consumer_key'], OAUTH_KEYS['consumer_secret'])\n",
    "api = tweepy.API(auth, wait_on_rate_limit=True, wait_on_rate_limit_notify=True)"
   ]
  },
  {
   "cell_type": "markdown",
   "metadata": {},
   "source": [
    "Definizione della funzione \"crea_dbTweets\" che ritorna un DataFrame a partire da una risposta di Tweepy"
   ]
  },
  {
   "cell_type": "code",
   "execution_count": 4,
   "metadata": {},
   "outputs": [],
   "source": [
    "def crea_dbTweets(query):\n",
    "    # Creazione delle varibili per costruire dbTweets\n",
    "    autore = []\n",
    "    testo = []\n",
    "    timestamp = []\n",
    "    n_retweet=[]\n",
    "    n_like=[]\n",
    "    hashtags=[]\n",
    "    retweet=[]\n",
    "    autore_retweet=[]\n",
    "    \n",
    "    # Ciclo che estrae dalla risposta Twitter i campi utili all'analisi\n",
    "    for tweet in query:\n",
    "    \n",
    "        timestamp.append((tweet.created_at).date())\n",
    "        autore.append(tweet.user.screen_name)\n",
    "        testo.append(tweet.text)\n",
    "        n_retweet.append(tweet.retweet_count)\n",
    "        n_like.append(tweet.favorite_count)\n",
    "\n",
    "        try: \n",
    "            autore_retweet.append(tweet.retweeted_status.user.screen_name)\n",
    "            retweet.append(\"True\")        \n",
    "        except:\n",
    "            retweet.append(\"False\")\n",
    "            autore_retweet.append(\"Nan\")\n",
    "\n",
    "        try:\n",
    "            hashtags.append(tweet.entities['hashtags'])\n",
    "        except:\n",
    "            hashtags.append(\"Nan\")\n",
    "    \n",
    "    # Estrazione hashtags\n",
    "    # Isola le parole che corrispondono agli hashtag e crea una stringa che le contenga tutte\n",
    "    lista_hashtags=[]\n",
    "    for elem in range(0, len(hashtags)):\n",
    "        parole= \"\"\n",
    "        for num in range(0,len(hashtags[elem])):\n",
    "            temp = str(hashtags[elem][num]).split(\"'\")[3]\n",
    "            parole += str(temp) + \" \"\n",
    "        # se il tweet non ha hashtag, assegna alla stringa il valore \"Nan\"\n",
    "        if parole == \"\":\n",
    "            parole=\"Nan\"\n",
    "            lista_hashtags.append(parole)\n",
    "        else:\n",
    "            lista_hashtags.append(parole)\n",
    "\n",
    "    \n",
    "    # Conversione liste in dataframe\n",
    "    dbTweets = pd.DataFrame()\n",
    "    dbTweets['data'] = timestamp\n",
    "    dbTweets['autore'] = autore\n",
    "    dbTweets['testo'] = testo\n",
    "    dbTweets['n_retweet'] = n_retweet\n",
    "    dbTweets['n_like'] = n_like\n",
    "    dbTweets['hashtags'] = lista_hashtags\n",
    "    dbTweets['is_retweet'] = retweet\n",
    "    dbTweets['autore_retweet'] = autore_retweet\n",
    "    \n",
    "    return dbTweets"
   ]
  },
  {
   "cell_type": "markdown",
   "metadata": {},
   "source": [
    "Si sono raccolti i dati per 12 giorni. <br>\n",
    "La data è stata aggiornata manualmente giorno per giorno, fino al 30/06/20. <br>"
   ]
  },
  {
   "cell_type": "code",
   "execution_count": 5,
   "metadata": {},
   "outputs": [],
   "source": [
    "data1=\"2020-06-30\"\n",
    "data2=\"2020-07-01\""
   ]
  },
  {
   "cell_type": "markdown",
   "metadata": {},
   "source": [
    "Sono stati raccolti tutti i tweet in italiano relativi ai 17 hashtag che fanno riferimento all'argomento \"Pride Day\" <br>"
   ]
  },
  {
   "cell_type": "code",
   "execution_count": 6,
   "metadata": {},
   "outputs": [],
   "source": [
    "db1 = crea_dbTweets(tweepy.Cursor(api.search, q='#omotransfobia',since=data1, until=data2, lang=\"it\").items())\n",
    "db2 = crea_dbTweets(tweepy.Cursor(api.search, q='#omofobia',since=data1, until=data2,lang=\"it\").items())\n",
    "db3 = crea_dbTweets(tweepy.Cursor(api.search, q='#transfobia',since=data1, until=data2, lang=\"it\").items())\n",
    "db4 = crea_dbTweets(tweepy.Cursor(api.search, q='#lgbt',since=data1, until=data2, lang=\"it\").items())"
   ]
  },
  {
   "cell_type": "code",
   "execution_count": 7,
   "metadata": {},
   "outputs": [],
   "source": [
    "db5 = crea_dbTweets(tweepy.Cursor(api.search, q='#pride',since=data1,until=data2, lang=\"it\").items())\n",
    "db6 = crea_dbTweets(tweepy.Cursor(api.search, q='#pridemonth',since=data1,until=data2,  lang=\"it\").items())\n",
    "db7 = crea_dbTweets(tweepy.Cursor(api.search, q='#loveislove',since=data1,until=data2, lang=\"it\").items())\n",
    "db8 = crea_dbTweets(tweepy.Cursor(api.search, q='#pride2020',since=data1,until=data2, lang=\"it\").items())"
   ]
  },
  {
   "cell_type": "code",
   "execution_count": 8,
   "metadata": {},
   "outputs": [],
   "source": [
    "db9 = crea_dbTweets(tweepy.Cursor(api.search, q='#zan',since=data1,until=data2, lang=\"it\").items())\n",
    "db10 = crea_dbTweets(tweepy.Cursor(api.search, q='#leggezan',since=data1,until=data2, lang=\"it\").items())\n",
    "db11 = crea_dbTweets(tweepy.Cursor(api.search, q='#milanopride',since=data1,until=data2, lang=\"it\").items())\n",
    "db12 = crea_dbTweets(tweepy.Cursor(api.search, q='#lgbtq',since=data1,until=data2, lang=\"it\").items())"
   ]
  },
  {
   "cell_type": "code",
   "execution_count": 9,
   "metadata": {},
   "outputs": [],
   "source": [
    "db13 = crea_dbTweets(tweepy.Cursor(api.search, q='#StopOmofobia',since=data1, until=data2,lang=\"it\").items())\n",
    "db14 = crea_dbTweets(tweepy.Cursor(api.search, q='#pridemonth2020',since=data1, until=data2,  lang=\"it\").items())\n",
    "db15 = crea_dbTweets(tweepy.Cursor(api.search, q='#omofobo',since=data1, until=data2,  lang=\"it\").items())\n",
    "db16 = crea_dbTweets(tweepy.Cursor(api.search, q='#gaypride',since=data1,until=data2, lang=\"it\").items())\n",
    "db17 = crea_dbTweets(tweepy.Cursor(api.search, q='#prideday',since=data1,until=data2, lang=\"it\").items())"
   ]
  },
  {
   "cell_type": "code",
   "execution_count": 10,
   "metadata": {},
   "outputs": [],
   "source": [
    "# Unione delle risposte dei diversi hashtag\n",
    "dbTweets = pd.concat([db1, db2, db3, db4, db5, db6, db7, db8, db9, db10, db11, db12, db13, db14, db15, db16, db17], axis=0)"
   ]
  },
  {
   "cell_type": "code",
   "execution_count": 12,
   "metadata": {},
   "outputs": [],
   "source": [
    "# Salvataggio di dbTweets della giornata in un file .csv\n",
    "dbTweets.to_csv('dbTweets_30.csv',index = False,encoding='utf-8')"
   ]
  },
  {
   "cell_type": "markdown",
   "metadata": {},
   "source": [
    "Alla fine dei 12 giorni, i vari csv sono stati uniti per crearne uno unico"
   ]
  },
  {
   "cell_type": "code",
   "execution_count": 2,
   "metadata": {},
   "outputs": [],
   "source": [
    "dbTweets=pd.DataFrame()"
   ]
  },
  {
   "cell_type": "code",
   "execution_count": 3,
   "metadata": {},
   "outputs": [],
   "source": [
    "dbTweets18 = pd.read_csv('dbTweets_18.csv')\n",
    "dbTweets19 = pd.read_csv('dbTweets_19.csv')\n",
    "dbTweets20 = pd.read_csv('dbTweets_20.csv')\n",
    "dbTweets21 = pd.read_csv('dbTweets_21.csv')\n",
    "dbTweets22 = pd.read_csv('dbTweets_22.csv')\n",
    "dbTweets23 = pd.read_csv('dbTweets_23.csv')\n",
    "dbTweets24 = pd.read_csv('dbTweets_24.csv')\n",
    "dbTweets25 = pd.read_csv('dbTweets_25.csv')\n",
    "dbTweets26 = pd.read_csv('dbTweets_26.csv')\n",
    "dbTweets27 = pd.read_csv('dbTweets_27.csv')\n",
    "dbTweets28 = pd.read_csv('dbTweets_28.csv')\n",
    "dbTweets29 = pd.read_csv('dbTweets_29.csv')\n",
    "dbTweets30 = pd.read_csv('dbTweets_30.csv')"
   ]
  },
  {
   "cell_type": "code",
   "execution_count": 4,
   "metadata": {},
   "outputs": [],
   "source": [
    "# Unione dei db dei diversi giorni\n",
    "dbTweets = pd.concat([dbTweets18, dbTweets19, dbTweets20, dbTweets21, dbTweets22, dbTweets23, dbTweets24, dbTweets25,\n",
    "                      dbTweets26, dbTweets27, dbTweets28, dbTweets29, dbTweets30], axis=0)"
   ]
  },
  {
   "cell_type": "code",
   "execution_count": null,
   "metadata": {},
   "outputs": [],
   "source": [
    "# Caricamento di dbTweets, se dovesse servire\n",
    "#dbTweets = pd.read_csv('dbTweets.csv')"
   ]
  },
  {
   "cell_type": "code",
   "execution_count": 5,
   "metadata": {},
   "outputs": [],
   "source": [
    "dbTweets = dbTweets.reset_index(drop=True)"
   ]
  },
  {
   "cell_type": "code",
   "execution_count": 6,
   "metadata": {},
   "outputs": [
    {
     "data": {
      "text/plain": [
       "34551"
      ]
     },
     "execution_count": 6,
     "metadata": {},
     "output_type": "execute_result"
    }
   ],
   "source": [
    "# Numero totale di tweet ottenuti nell'arco di 12 giorni\n",
    "len(dbTweets)"
   ]
  },
  {
   "cell_type": "code",
   "execution_count": 7,
   "metadata": {},
   "outputs": [
    {
     "data": {
      "text/html": [
       "<div>\n",
       "<style scoped>\n",
       "    .dataframe tbody tr th:only-of-type {\n",
       "        vertical-align: middle;\n",
       "    }\n",
       "\n",
       "    .dataframe tbody tr th {\n",
       "        vertical-align: top;\n",
       "    }\n",
       "\n",
       "    .dataframe thead th {\n",
       "        text-align: right;\n",
       "    }\n",
       "</style>\n",
       "<table border=\"1\" class=\"dataframe\">\n",
       "  <thead>\n",
       "    <tr style=\"text-align: right;\">\n",
       "      <th></th>\n",
       "      <th>data</th>\n",
       "      <th>autore</th>\n",
       "      <th>testo</th>\n",
       "      <th>n_retweet</th>\n",
       "      <th>n_like</th>\n",
       "      <th>hashtags</th>\n",
       "      <th>is_retweet</th>\n",
       "      <th>autore_retweet</th>\n",
       "    </tr>\n",
       "  </thead>\n",
       "  <tbody>\n",
       "    <tr>\n",
       "      <th>0</th>\n",
       "      <td>2020-06-18</td>\n",
       "      <td>Orobriele</td>\n",
       "      <td>A @Drittorovescio_ @karimamoual ha affermato c...</td>\n",
       "      <td>21.0</td>\n",
       "      <td>39.0</td>\n",
       "      <td>omofobia transfobia</td>\n",
       "      <td>False</td>\n",
       "      <td>Nan</td>\n",
       "    </tr>\n",
       "    <tr>\n",
       "      <th>1</th>\n",
       "      <td>2020-06-18</td>\n",
       "      <td>pietro_carli_69</td>\n",
       "      <td>RT @vladiluxuria: La mia solidarietà e affetto...</td>\n",
       "      <td>45.0</td>\n",
       "      <td>0.0</td>\n",
       "      <td>omofobia TRANSFOBIA</td>\n",
       "      <td>True</td>\n",
       "      <td>vladiluxuria</td>\n",
       "    </tr>\n",
       "    <tr>\n",
       "      <th>2</th>\n",
       "      <td>2020-06-18</td>\n",
       "      <td>AnnaritaNinni</td>\n",
       "      <td>RT @vladiluxuria: La mia solidarietà e affetto...</td>\n",
       "      <td>45.0</td>\n",
       "      <td>0.0</td>\n",
       "      <td>omofobia TRANSFOBIA</td>\n",
       "      <td>True</td>\n",
       "      <td>vladiluxuria</td>\n",
       "    </tr>\n",
       "    <tr>\n",
       "      <th>3</th>\n",
       "      <td>2020-06-18</td>\n",
       "      <td>RilkeRainer</td>\n",
       "      <td>RT @gayit: J.K Rowling, la casa editrice incer...</td>\n",
       "      <td>8.0</td>\n",
       "      <td>0.0</td>\n",
       "      <td>Nan</td>\n",
       "      <td>True</td>\n",
       "      <td>gayit</td>\n",
       "    </tr>\n",
       "    <tr>\n",
       "      <th>4</th>\n",
       "      <td>2020-06-18</td>\n",
       "      <td>alemilord</td>\n",
       "      <td>RT @vladiluxuria: La mia solidarietà e affetto...</td>\n",
       "      <td>45.0</td>\n",
       "      <td>0.0</td>\n",
       "      <td>omofobia TRANSFOBIA</td>\n",
       "      <td>True</td>\n",
       "      <td>vladiluxuria</td>\n",
       "    </tr>\n",
       "  </tbody>\n",
       "</table>\n",
       "</div>"
      ],
      "text/plain": [
       "         data           autore  \\\n",
       "0  2020-06-18        Orobriele   \n",
       "1  2020-06-18  pietro_carli_69   \n",
       "2  2020-06-18    AnnaritaNinni   \n",
       "3  2020-06-18      RilkeRainer   \n",
       "4  2020-06-18        alemilord   \n",
       "\n",
       "                                               testo  n_retweet  n_like  \\\n",
       "0  A @Drittorovescio_ @karimamoual ha affermato c...       21.0    39.0   \n",
       "1  RT @vladiluxuria: La mia solidarietà e affetto...       45.0     0.0   \n",
       "2  RT @vladiluxuria: La mia solidarietà e affetto...       45.0     0.0   \n",
       "3  RT @gayit: J.K Rowling, la casa editrice incer...        8.0     0.0   \n",
       "4  RT @vladiluxuria: La mia solidarietà e affetto...       45.0     0.0   \n",
       "\n",
       "               hashtags  is_retweet autore_retweet  \n",
       "0  omofobia transfobia        False            Nan  \n",
       "1  omofobia TRANSFOBIA         True   vladiluxuria  \n",
       "2  omofobia TRANSFOBIA         True   vladiluxuria  \n",
       "3                   Nan        True          gayit  \n",
       "4  omofobia TRANSFOBIA         True   vladiluxuria  "
      ]
     },
     "execution_count": 7,
     "metadata": {},
     "output_type": "execute_result"
    }
   ],
   "source": [
    "dbTweets.head()"
   ]
  },
  {
   "cell_type": "code",
   "execution_count": 8,
   "metadata": {},
   "outputs": [],
   "source": [
    "# Salvataggio csv unico\n",
    "dbTweets.to_csv('dbTweets.csv',index = False,encoding='utf-8')"
   ]
  },
  {
   "cell_type": "code",
   "execution_count": 9,
   "metadata": {},
   "outputs": [],
   "source": [
    "ordine=[\"2020-06-18\",\"2020-06-19\",\"2020-06-20\",\"2020-06-21\",\"2020-06-22\",\"2020-06-23\",\"2020-06-24\",\"2020-06-25\",\n",
    "        \"2020-06-26\",\"2020-06-27\",\"2020-06-28\",\"2020-06-29\",\"2020-06-30\"]"
   ]
  },
  {
   "cell_type": "code",
   "execution_count": 11,
   "metadata": {},
   "outputs": [
    {
     "data": {
      "text/plain": [
       "<matplotlib.axes._subplots.AxesSubplot at 0x19e2d47d4e0>"
      ]
     },
     "execution_count": 11,
     "metadata": {},
     "output_type": "execute_result"
    },
    {
     "data": {
      "image/png": "[encoded data removed]",
      "text/plain": [
       "<Figure size 432x288 with 1 Axes>"
      ]
     },
     "metadata": {
      "needs_background": "light"
     },
     "output_type": "display_data"
    }
   ],
   "source": [
    "# Plot del numero di tweet giornaliero\n",
    "dbTweets[\"data\"].value_counts().loc[ordine].plot(kind=\"bar\")"
   ]
  },
  {
   "cell_type": "code",
   "execution_count": 12,
   "metadata": {},
   "outputs": [
    {
     "data": {
      "text/html": [
       "<div>\n",
       "<style scoped>\n",
       "    .dataframe tbody tr th:only-of-type {\n",
       "        vertical-align: middle;\n",
       "    }\n",
       "\n",
       "    .dataframe tbody tr th {\n",
       "        vertical-align: top;\n",
       "    }\n",
       "\n",
       "    .dataframe thead th {\n",
       "        text-align: right;\n",
       "    }\n",
       "</style>\n",
       "<table border=\"1\" class=\"dataframe\">\n",
       "  <thead>\n",
       "    <tr style=\"text-align: right;\">\n",
       "      <th></th>\n",
       "      <th>data</th>\n",
       "      <th>autore</th>\n",
       "      <th>testo</th>\n",
       "      <th>n_retweet</th>\n",
       "      <th>n_like</th>\n",
       "      <th>hashtags</th>\n",
       "      <th>autore_retweet</th>\n",
       "    </tr>\n",
       "    <tr>\n",
       "      <th>is_retweet</th>\n",
       "      <th></th>\n",
       "      <th></th>\n",
       "      <th></th>\n",
       "      <th></th>\n",
       "      <th></th>\n",
       "      <th></th>\n",
       "      <th></th>\n",
       "    </tr>\n",
       "  </thead>\n",
       "  <tbody>\n",
       "    <tr>\n",
       "      <th>False</th>\n",
       "      <td>8053</td>\n",
       "      <td>8053</td>\n",
       "      <td>8053</td>\n",
       "      <td>8053</td>\n",
       "      <td>8053</td>\n",
       "      <td>8053</td>\n",
       "      <td>8053</td>\n",
       "    </tr>\n",
       "    <tr>\n",
       "      <th>True</th>\n",
       "      <td>26498</td>\n",
       "      <td>26498</td>\n",
       "      <td>26498</td>\n",
       "      <td>26498</td>\n",
       "      <td>26498</td>\n",
       "      <td>26498</td>\n",
       "      <td>26498</td>\n",
       "    </tr>\n",
       "  </tbody>\n",
       "</table>\n",
       "</div>"
      ],
      "text/plain": [
       "             data  autore  testo  n_retweet  n_like  hashtags  autore_retweet\n",
       "is_retweet                                                                   \n",
       "False        8053    8053   8053       8053    8053      8053            8053\n",
       "True        26498   26498  26498      26498   26498     26498           26498"
      ]
     },
     "execution_count": 12,
     "metadata": {},
     "output_type": "execute_result"
    }
   ],
   "source": [
    "# Conteggio di quanti tweet in dbTweets sono repost\n",
    "dbTweets.groupby(\"is_retweet\").count()"
   ]
  },
  {
   "cell_type": "markdown",
   "metadata": {},
   "source": [
    "<h3>Creazione di dbUsers, variabile che conterrà gli archi del social graph</h3>"
   ]
  },
  {
   "cell_type": "code",
   "execution_count": 13,
   "metadata": {},
   "outputs": [],
   "source": [
    "dbUsers = pd.DataFrame()\n",
    "nodo_from = []\n",
    "nodo_to = []\n",
    "\n",
    "for index, row in dbTweets.iterrows():\n",
    "    if dbTweets[\"is_retweet\"][index] == True:\n",
    "        nodo_from.append(dbTweets[\"autore\"][index])\n",
    "        nodo_to.append(dbTweets[\"autore_retweet\"][index])\n",
    "\n",
    "dbUsers[\"nodo_from\"] = nodo_from\n",
    "dbUsers[\"nodo_to\"] = nodo_to"
   ]
  },
  {
   "cell_type": "code",
   "execution_count": 14,
   "metadata": {
    "scrolled": true
   },
   "outputs": [
    {
     "data": {
      "text/html": [
       "<div>\n",
       "<style scoped>\n",
       "    .dataframe tbody tr th:only-of-type {\n",
       "        vertical-align: middle;\n",
       "    }\n",
       "\n",
       "    .dataframe tbody tr th {\n",
       "        vertical-align: top;\n",
       "    }\n",
       "\n",
       "    .dataframe thead th {\n",
       "        text-align: right;\n",
       "    }\n",
       "</style>\n",
       "<table border=\"1\" class=\"dataframe\">\n",
       "  <thead>\n",
       "    <tr style=\"text-align: right;\">\n",
       "      <th></th>\n",
       "      <th>nodo_from</th>\n",
       "      <th>nodo_to</th>\n",
       "    </tr>\n",
       "  </thead>\n",
       "  <tbody>\n",
       "    <tr>\n",
       "      <th>0</th>\n",
       "      <td>pietro_carli_69</td>\n",
       "      <td>vladiluxuria</td>\n",
       "    </tr>\n",
       "    <tr>\n",
       "      <th>1</th>\n",
       "      <td>AnnaritaNinni</td>\n",
       "      <td>vladiluxuria</td>\n",
       "    </tr>\n",
       "    <tr>\n",
       "      <th>2</th>\n",
       "      <td>RilkeRainer</td>\n",
       "      <td>gayit</td>\n",
       "    </tr>\n",
       "    <tr>\n",
       "      <th>3</th>\n",
       "      <td>alemilord</td>\n",
       "      <td>vladiluxuria</td>\n",
       "    </tr>\n",
       "    <tr>\n",
       "      <th>4</th>\n",
       "      <td>SaCe86</td>\n",
       "      <td>vladiluxuria</td>\n",
       "    </tr>\n",
       "  </tbody>\n",
       "</table>\n",
       "</div>"
      ],
      "text/plain": [
       "         nodo_from       nodo_to\n",
       "0  pietro_carli_69  vladiluxuria\n",
       "1    AnnaritaNinni  vladiluxuria\n",
       "2      RilkeRainer         gayit\n",
       "3        alemilord  vladiluxuria\n",
       "4           SaCe86  vladiluxuria"
      ]
     },
     "execution_count": 14,
     "metadata": {},
     "output_type": "execute_result"
    }
   ],
   "source": [
    "dbUsers.head()"
   ]
  },
  {
   "cell_type": "code",
   "execution_count": 15,
   "metadata": {},
   "outputs": [
    {
     "data": {
      "text/plain": [
       "26498"
      ]
     },
     "execution_count": 15,
     "metadata": {},
     "output_type": "execute_result"
    }
   ],
   "source": [
    "len(dbUsers)"
   ]
  },
  {
   "cell_type": "code",
   "execution_count": 16,
   "metadata": {},
   "outputs": [],
   "source": [
    "dbUsers = dbUsers.drop_duplicates()"
   ]
  },
  {
   "cell_type": "code",
   "execution_count": 17,
   "metadata": {},
   "outputs": [
    {
     "data": {
      "text/plain": [
       "17327"
      ]
     },
     "execution_count": 17,
     "metadata": {},
     "output_type": "execute_result"
    }
   ],
   "source": [
    "# Numero di archi, senza duplicati, che andranno a costruire il social graph\n",
    "len(dbUsers)"
   ]
  },
  {
   "cell_type": "code",
   "execution_count": 18,
   "metadata": {},
   "outputs": [],
   "source": [
    "# Salvataggio di dbUsers in un file .csv\n",
    "dbUsers.to_csv('dbUsers.csv',index = False,encoding='utf-8')"
   ]
  },
  {
   "cell_type": "code",
   "execution_count": null,
   "metadata": {},
   "outputs": [],
   "source": []
  }
 ],
 "metadata": {
  "kernelspec": {
   "display_name": "Python 3",
   "language": "python",
   "name": "python3"
  },
  "language_info": {
   "codemirror_mode": {
    "name": "ipython",
    "version": 3
   },
   "file_extension": ".py",
   "mimetype": "text/x-python",
   "name": "python",
   "nbconvert_exporter": "python",
   "pygments_lexer": "ipython3",
   "version": "3.6.8"
  }
 },
 "nbformat": 4,
 "nbformat_minor": 2
}
