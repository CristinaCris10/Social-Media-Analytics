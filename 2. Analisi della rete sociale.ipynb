{
 "cells": [
  {
   "cell_type": "markdown",
   "metadata": {},
   "source": [
    "<div align=\"right\"><h8><i>Cristina Cristalli - 838022<br>\n",
    "Francesca Franzese - 847780<br>\n",
    "    <b>Progetto Social Media Analytics<br>\n",
    "        CdL Data Science 2020</b></h8></div>"
   ]
  },
  {
   "cell_type": "markdown",
   "metadata": {},
   "source": [
    "## Analisi della rete sociale"
   ]
  },
  {
   "cell_type": "code",
   "execution_count": 2,
   "metadata": {},
   "outputs": [],
   "source": [
    "import chart_studio.plotly as py\n",
    "from plotly.graph_objs import *\n",
    "import matplotlib.pyplot as plt\n",
    "%matplotlib inline \n",
    "import networkx as nx\n",
    "import pandas as pd\n",
    "import numpy as np\n",
    "from tabulate import tabulate\n",
    "import random\n",
    "import scipy.stats as sp\n",
    "from scipy.special import factorial\n",
    "from statsmodels.distributions.empirical_distribution import ECDF\n",
    "from community import community_louvain\n",
    "#import warnings\n",
    "#warnings.filterwarnings('ignore')"
   ]
  },
  {
   "cell_type": "markdown",
   "metadata": {},
   "source": [
    "Caricamento csv \"dbUsers\" che contiene le informazioni degli archi per la costruzione del grafo"
   ]
  },
  {
   "cell_type": "code",
   "execution_count": 3,
   "metadata": {},
   "outputs": [],
   "source": [
    "dbUsers = pd.read_csv('dbUsers.csv')"
   ]
  },
  {
   "cell_type": "code",
   "execution_count": 4,
   "metadata": {},
   "outputs": [
    {
     "data": {
      "text/html": [
       "<div>\n",
       "<style scoped>\n",
       "    .dataframe tbody tr th:only-of-type {\n",
       "        vertical-align: middle;\n",
       "    }\n",
       "\n",
       "    .dataframe tbody tr th {\n",
       "        vertical-align: top;\n",
       "    }\n",
       "\n",
       "    .dataframe thead th {\n",
       "        text-align: right;\n",
       "    }\n",
       "</style>\n",
       "<table border=\"1\" class=\"dataframe\">\n",
       "  <thead>\n",
       "    <tr style=\"text-align: right;\">\n",
       "      <th></th>\n",
       "      <th>nodo_from</th>\n",
       "      <th>nodo_to</th>\n",
       "    </tr>\n",
       "  </thead>\n",
       "  <tbody>\n",
       "    <tr>\n",
       "      <th>0</th>\n",
       "      <td>pietro_carli_69</td>\n",
       "      <td>vladiluxuria</td>\n",
       "    </tr>\n",
       "    <tr>\n",
       "      <th>1</th>\n",
       "      <td>AnnaritaNinni</td>\n",
       "      <td>vladiluxuria</td>\n",
       "    </tr>\n",
       "    <tr>\n",
       "      <th>2</th>\n",
       "      <td>RilkeRainer</td>\n",
       "      <td>gayit</td>\n",
       "    </tr>\n",
       "    <tr>\n",
       "      <th>3</th>\n",
       "      <td>alemilord</td>\n",
       "      <td>vladiluxuria</td>\n",
       "    </tr>\n",
       "    <tr>\n",
       "      <th>4</th>\n",
       "      <td>SaCe86</td>\n",
       "      <td>vladiluxuria</td>\n",
       "    </tr>\n",
       "  </tbody>\n",
       "</table>\n",
       "</div>"
      ],
      "text/plain": [
       "         nodo_from       nodo_to\n",
       "0  pietro_carli_69  vladiluxuria\n",
       "1    AnnaritaNinni  vladiluxuria\n",
       "2      RilkeRainer         gayit\n",
       "3        alemilord  vladiluxuria\n",
       "4           SaCe86  vladiluxuria"
      ]
     },
     "execution_count": 4,
     "metadata": {},
     "output_type": "execute_result"
    }
   ],
   "source": [
    "dbUsers.head()"
   ]
  },
  {
   "cell_type": "markdown",
   "metadata": {},
   "source": [
    "Assegnazione di un id univoco per ogni utente diverso e modifica di dbUsers con l'aggiunta degli id"
   ]
  },
  {
   "cell_type": "code",
   "execution_count": 5,
   "metadata": {},
   "outputs": [],
   "source": [
    "# Dataframe che conterrà tutti gli utenti, presi una sola volta, con il loro id univoco associato\n",
    "assegna_id = pd.DataFrame()\n",
    "c1 = dbUsers['nodo_from'].drop_duplicates()\n",
    "c2 = dbUsers['nodo_to'].drop_duplicates()\n",
    "c1 = pd.concat([c1, c2])\n",
    "assegna_id[\"etichetta\"] = c1\n",
    "c2 = range(0,len(c1))\n",
    "assegna_id[\"id_nodo\"] = c2"
   ]
  },
  {
   "cell_type": "code",
   "execution_count": 6,
   "metadata": {},
   "outputs": [
    {
     "data": {
      "text/html": [
       "<div>\n",
       "<style scoped>\n",
       "    .dataframe tbody tr th:only-of-type {\n",
       "        vertical-align: middle;\n",
       "    }\n",
       "\n",
       "    .dataframe tbody tr th {\n",
       "        vertical-align: top;\n",
       "    }\n",
       "\n",
       "    .dataframe thead th {\n",
       "        text-align: right;\n",
       "    }\n",
       "</style>\n",
       "<table border=\"1\" class=\"dataframe\">\n",
       "  <thead>\n",
       "    <tr style=\"text-align: right;\">\n",
       "      <th></th>\n",
       "      <th>etichetta</th>\n",
       "      <th>id_nodo</th>\n",
       "    </tr>\n",
       "  </thead>\n",
       "  <tbody>\n",
       "    <tr>\n",
       "      <th>0</th>\n",
       "      <td>pietro_carli_69</td>\n",
       "      <td>0</td>\n",
       "    </tr>\n",
       "    <tr>\n",
       "      <th>1</th>\n",
       "      <td>AnnaritaNinni</td>\n",
       "      <td>1</td>\n",
       "    </tr>\n",
       "    <tr>\n",
       "      <th>2</th>\n",
       "      <td>RilkeRainer</td>\n",
       "      <td>2</td>\n",
       "    </tr>\n",
       "    <tr>\n",
       "      <th>3</th>\n",
       "      <td>alemilord</td>\n",
       "      <td>3</td>\n",
       "    </tr>\n",
       "    <tr>\n",
       "      <th>4</th>\n",
       "      <td>SaCe86</td>\n",
       "      <td>4</td>\n",
       "    </tr>\n",
       "  </tbody>\n",
       "</table>\n",
       "</div>"
      ],
      "text/plain": [
       "         etichetta  id_nodo\n",
       "0  pietro_carli_69        0\n",
       "1    AnnaritaNinni        1\n",
       "2      RilkeRainer        2\n",
       "3        alemilord        3\n",
       "4           SaCe86        4"
      ]
     },
     "execution_count": 6,
     "metadata": {},
     "output_type": "execute_result"
    }
   ],
   "source": [
    "assegna_id.head()"
   ]
  },
  {
   "cell_type": "code",
   "execution_count": 7,
   "metadata": {},
   "outputs": [],
   "source": [
    "#per ogni connessione in dbUsers, cerca e salva l'id univoco di entrambi nodo from e nodo to\n",
    "id_nodo_from = []\n",
    "id_nodo_to = []\n",
    "for index, row in dbUsers.iterrows():\n",
    "    id_nodo_from.append(assegna_id[assegna_id[\"etichetta\"]==row[\"nodo_from\"]][\"id_nodo\"].values[0])\n",
    "    id_nodo_to.append(assegna_id[assegna_id[\"etichetta\"]==row[\"nodo_to\"]][\"id_nodo\"].values[0])\n",
    "\n",
    "dbUsers[\"id_nodo_from\"] = id_nodo_from\n",
    "dbUsers[\"id_nodo_to\"] = id_nodo_to"
   ]
  },
  {
   "cell_type": "code",
   "execution_count": 8,
   "metadata": {},
   "outputs": [
    {
     "data": {
      "text/html": [
       "<div>\n",
       "<style scoped>\n",
       "    .dataframe tbody tr th:only-of-type {\n",
       "        vertical-align: middle;\n",
       "    }\n",
       "\n",
       "    .dataframe tbody tr th {\n",
       "        vertical-align: top;\n",
       "    }\n",
       "\n",
       "    .dataframe thead th {\n",
       "        text-align: right;\n",
       "    }\n",
       "</style>\n",
       "<table border=\"1\" class=\"dataframe\">\n",
       "  <thead>\n",
       "    <tr style=\"text-align: right;\">\n",
       "      <th></th>\n",
       "      <th>nodo_from</th>\n",
       "      <th>nodo_to</th>\n",
       "      <th>id_nodo_from</th>\n",
       "      <th>id_nodo_to</th>\n",
       "    </tr>\n",
       "  </thead>\n",
       "  <tbody>\n",
       "    <tr>\n",
       "      <th>0</th>\n",
       "      <td>pietro_carli_69</td>\n",
       "      <td>vladiluxuria</td>\n",
       "      <td>0</td>\n",
       "      <td>791</td>\n",
       "    </tr>\n",
       "    <tr>\n",
       "      <th>1</th>\n",
       "      <td>AnnaritaNinni</td>\n",
       "      <td>vladiluxuria</td>\n",
       "      <td>1</td>\n",
       "      <td>791</td>\n",
       "    </tr>\n",
       "    <tr>\n",
       "      <th>2</th>\n",
       "      <td>RilkeRainer</td>\n",
       "      <td>gayit</td>\n",
       "      <td>2</td>\n",
       "      <td>11313</td>\n",
       "    </tr>\n",
       "    <tr>\n",
       "      <th>3</th>\n",
       "      <td>alemilord</td>\n",
       "      <td>vladiluxuria</td>\n",
       "      <td>3</td>\n",
       "      <td>791</td>\n",
       "    </tr>\n",
       "    <tr>\n",
       "      <th>4</th>\n",
       "      <td>SaCe86</td>\n",
       "      <td>vladiluxuria</td>\n",
       "      <td>4</td>\n",
       "      <td>791</td>\n",
       "    </tr>\n",
       "  </tbody>\n",
       "</table>\n",
       "</div>"
      ],
      "text/plain": [
       "         nodo_from       nodo_to  id_nodo_from  id_nodo_to\n",
       "0  pietro_carli_69  vladiluxuria             0         791\n",
       "1    AnnaritaNinni  vladiluxuria             1         791\n",
       "2      RilkeRainer         gayit             2       11313\n",
       "3        alemilord  vladiluxuria             3         791\n",
       "4           SaCe86  vladiluxuria             4         791"
      ]
     },
     "execution_count": 8,
     "metadata": {},
     "output_type": "execute_result"
    }
   ],
   "source": [
    "dbUsers.head()"
   ]
  },
  {
   "cell_type": "markdown",
   "metadata": {},
   "source": [
    "<h4>Creazione del Grafo</h4>"
   ]
  },
  {
   "cell_type": "code",
   "execution_count": 9,
   "metadata": {},
   "outputs": [],
   "source": [
    "# grafo direzionale\n",
    "grafo = nx.DiGraph()"
   ]
  },
  {
   "cell_type": "code",
   "execution_count": 10,
   "metadata": {},
   "outputs": [
    {
     "data": {
      "text/plain": [
       "17327"
      ]
     },
     "execution_count": 10,
     "metadata": {},
     "output_type": "execute_result"
    }
   ],
   "source": [
    "len(dbUsers)"
   ]
  },
  {
   "cell_type": "code",
   "execution_count": 11,
   "metadata": {},
   "outputs": [],
   "source": [
    "for n in range(0, len(dbUsers)):\n",
    "    grafo.add_edge(int(dbUsers['id_nodo_from'][n]),int(dbUsers['id_nodo_to'][n]))"
   ]
  },
  {
   "cell_type": "code",
   "execution_count": 12,
   "metadata": {},
   "outputs": [],
   "source": [
    "# salvataggio del grafo in formato .gefx per poterlo visualizzare con il programma Gephi\n",
    "#nx.write_gexf(grafo,'grafo.gexf')"
   ]
  },
  {
   "cell_type": "markdown",
   "metadata": {},
   "source": [
    "<h2>Studio e distribuzione del grado, Identificazione degli Hub</h2>"
   ]
  },
  {
   "cell_type": "code",
   "execution_count": 13,
   "metadata": {},
   "outputs": [
    {
     "name": "stdout",
     "output_type": "stream",
     "text": [
      "Ordine: 12182\n",
      "Dimensione: 17327\n"
     ]
    }
   ],
   "source": [
    "print (\"Ordine: \" + str(grafo.order()))\n",
    "print (\"Dimensione: \" + str(grafo.size()))"
   ]
  },
  {
   "cell_type": "code",
   "execution_count": 14,
   "metadata": {
    "scrolled": true
   },
   "outputs": [
    {
     "name": "stdout",
     "output_type": "stream",
     "text": [
      "InDegree media: 1.4223444426202594\n",
      "InDegree max: 1629\n",
      "InDegree min: 0\n",
      "InDegree mediana: 0.0\n",
      "InDegree moda: [0]\n"
     ]
    }
   ],
   "source": [
    "indegree=grafo.in_degree()\n",
    "indegree_values = list(dict(indegree).values())\n",
    "\n",
    "print (\"InDegree media: \" +str(np.mean(indegree_values)))\n",
    "print (\"InDegree max: \" + str(np.max(indegree_values)))\n",
    "print (\"InDegree min: \" +str(np.min(indegree_values)))\n",
    "print (\"InDegree mediana: \" +str(np.median(indegree_values)))\n",
    "print (\"InDegree moda: \" +str(sp.mode(indegree_values)[0]))\n"
   ]
  },
  {
   "cell_type": "code",
   "execution_count": 15,
   "metadata": {},
   "outputs": [
    {
     "name": "stdout",
     "output_type": "stream",
     "text": [
      "OutDegree media: 1.4223444426202594\n",
      "OutDegree max: 24\n",
      "OutDegree min: 0\n",
      "OutDegree mediana: 1.0\n",
      "OutDegree moda: [1]\n"
     ]
    }
   ],
   "source": [
    "outdegree = grafo.out_degree()\n",
    "outdegree_values = list(dict(outdegree).values())\n",
    "\n",
    "print (\"OutDegree media: \" +str(np.mean(outdegree_values)))\n",
    "print (\"OutDegree max: \" + str(np.max(outdegree_values)))\n",
    "print (\"OutDegree min: \" +str(np.min(outdegree_values)))\n",
    "print (\"OutDegree mediana: \" +str(np.median(outdegree_values)))\n",
    "print (\"OutDegree moda: \" +str(sp.mode(outdegree_values)[0]))"
   ]
  },
  {
   "cell_type": "code",
   "execution_count": 16,
   "metadata": {},
   "outputs": [
    {
     "name": "stdout",
     "output_type": "stream",
     "text": [
      "Mutual media: 2.8446888852405188\n",
      "Mutual max: 1638\n",
      "Mutual min: 1\n",
      "Mutual mediana: 1.0\n",
      "Mutual moda: [1]\n"
     ]
    }
   ],
   "source": [
    "mutual = grafo.degree()\n",
    "mutual_values = list(dict(mutual).values())\n",
    "\n",
    "print (\"Mutual media: \" +str(np.mean(mutual_values)))\n",
    "print (\"Mutual max: \" + str(np.max(mutual_values)))\n",
    "print (\"Mutual min: \" +str(np.min(mutual_values)))\n",
    "print (\"Mutual mediana: \" +str(np.median(mutual_values)))\n",
    "print (\"Mutual moda: \" +str(sp.mode(mutual_values)[0]))\n"
   ]
  },
  {
   "cell_type": "code",
   "execution_count": 17,
   "metadata": {},
   "outputs": [
    {
     "data": {
      "text/plain": [
       "Text(0, 0.5, 'CCDF')"
      ]
     },
     "execution_count": 17,
     "metadata": {},
     "output_type": "execute_result"
    },
    {
     "data": {
      "image/png": "[encoded data removed]",
      "text/plain": [
       "<Figure size 720x360 with 1 Axes>"
      ]
     },
     "metadata": {
      "needs_background": "light"
     },
     "output_type": "display_data"
    }
   ],
   "source": [
    "ccdf = ECDF(mutual_values)\n",
    "x = np.unique(mutual_values)\n",
    "y = ccdf(x)\n",
    "fig = plt.figure(figsize=(10,5))\n",
    "assi = fig.gca()\n",
    "assi.loglog(x,1-y,color='green',marker='o',linestyle='None', ms = 9)\n",
    "assi.set_xlabel('Grado',size=30)\n",
    "assi.set_ylabel('CCDF',size=30)"
   ]
  },
  {
   "cell_type": "markdown",
   "metadata": {},
   "source": [
    "<h4>Identificazione degli hub</h4>\n",
    "<br>\n",
    "Sono considerati hub tutti i noti che hanno InDegree superiore a 100, cioè tutti gli utenti che, nell'arco dei 12 giorni, sono stati retweettati più di 100 volte"
   ]
  },
  {
   "cell_type": "code",
   "execution_count": 18,
   "metadata": {},
   "outputs": [],
   "source": [
    "lista_hubs=[]\n",
    "\n",
    "for nodo in grafo.nodes():\n",
    "    if grafo.in_degree(nodo)>100:\n",
    "        nome_hub = assegna_id[assegna_id[\"id_nodo\"]==nodo][\"etichetta\"].values[0]\n",
    "        grado_hub = grafo.in_degree(nodo)\n",
    "        lista_hubs.append(str(nodo) + \",\" + str(nome_hub) + \",\" + str(grado_hub))       "
   ]
  },
  {
   "cell_type": "code",
   "execution_count": 19,
   "metadata": {
    "scrolled": false
   },
   "outputs": [
    {
     "name": "stdout",
     "output_type": "stream",
     "text": [
      "Nome               InDegree\n",
      "---------------  ----------\n",
      "radio_zek              1629\n",
      "AUniversale            1236\n",
      "realUmbertoLM          1066\n",
      "francescatotolo         496\n",
      "beabri                  461\n",
      "Giorgiolaporta          353\n",
      "LauraPausini            352\n",
      "marco_gervasoni         290\n",
      "mediohoriente           274\n",
      "VujaBoskov              259\n",
      "gracewee79              204\n",
      "AlbertoLetizia2         189\n",
      "catlatorre              178\n",
      "BeppeSala               162\n",
      "IoSonoLibera3           141\n",
      "DarioBallini            140\n",
      "XFactor_Italia          139\n",
      "Link4Universe           132\n",
      "fnicodemo               126\n",
      "Gianmar26145917         124\n",
      "meb                     117\n",
      "roberta_fasani          117\n",
      "MilanoPride             115\n",
      "rubio_chef              112\n",
      "PrimeVideoIT            103\n",
      "perchetendenza          103\n"
     ]
    }
   ],
   "source": [
    "table_hub=[]\n",
    "sort_lista_hubs = sorted(lista_hubs, key=lambda x: int(x.split(\",\")[2]), reverse=True)\n",
    "\n",
    "for elem in sort_lista_hubs:\n",
    "    table_hub.append([str(elem.split(\",\")[1]),  str(elem.split(\",\")[2])])\n",
    "    \n",
    "print(tabulate(table_hub, headers=['Nome', 'InDegree']))"
   ]
  },
  {
   "cell_type": "markdown",
   "metadata": {},
   "source": [
    "<h2>Metriche</h2>"
   ]
  },
  {
   "cell_type": "markdown",
   "metadata": {},
   "source": [
    "<h4>Omofilia</h4>"
   ]
  },
  {
   "cell_type": "code",
   "execution_count": 20,
   "metadata": {
    "scrolled": true
   },
   "outputs": [
    {
     "name": "stdout",
     "output_type": "stream",
     "text": [
      "-0.14120823206082797\n"
     ]
    }
   ],
   "source": [
    "#Omofilia in base al grado\n",
    "ass_degree = nx.degree_assortativity_coefficient(grafo)\n",
    "print (ass_degree)"
   ]
  },
  {
   "cell_type": "markdown",
   "metadata": {},
   "source": [
    "<h4>Reciprocità</h4>"
   ]
  },
  {
   "cell_type": "code",
   "execution_count": 21,
   "metadata": {
    "scrolled": true
   },
   "outputs": [
    {
     "name": "stdout",
     "output_type": "stream",
     "text": [
      "0.006002193109020604\n"
     ]
    }
   ],
   "source": [
    "#Reciprocità\n",
    "rec = nx.reciprocity(grafo)\n",
    "print (rec)"
   ]
  },
  {
   "cell_type": "markdown",
   "metadata": {},
   "source": [
    "<h4>Densità</h4>"
   ]
  },
  {
   "cell_type": "code",
   "execution_count": 22,
   "metadata": {},
   "outputs": [
    {
     "name": "stdout",
     "output_type": "stream",
     "text": [
      "0.00023353492202943263\n"
     ]
    }
   ],
   "source": [
    "num = np.mean(mutual_values)\n",
    "den = grafo.order()-1\n",
    "density= float(num/den)\n",
    "print (float(density))"
   ]
  },
  {
   "cell_type": "markdown",
   "metadata": {},
   "source": [
    "<h4>Coefficiente di Clustering</h4>"
   ]
  },
  {
   "cell_type": "code",
   "execution_count": 23,
   "metadata": {
    "scrolled": true
   },
   "outputs": [
    {
     "data": {
      "text/plain": [
       "0.018365849535134246"
      ]
     },
     "execution_count": 23,
     "metadata": {},
     "output_type": "execute_result"
    }
   ],
   "source": [
    "# Medio\n",
    "nx.average_clustering(grafo)"
   ]
  },
  {
   "cell_type": "code",
   "execution_count": 24,
   "metadata": {},
   "outputs": [
    {
     "data": {
      "text/plain": [
       "0.06518991341717753"
      ]
     },
     "execution_count": 24,
     "metadata": {},
     "output_type": "execute_result"
    }
   ],
   "source": [
    "# Globale\n",
    "nx.transitivity(grafo)"
   ]
  },
  {
   "cell_type": "markdown",
   "metadata": {},
   "source": [
    "<h4>Centralità</h4>"
   ]
  },
  {
   "cell_type": "code",
   "execution_count": 25,
   "metadata": {},
   "outputs": [
    {
     "name": "stdout",
     "output_type": "stream",
     "text": [
      "Il nodo più centrale della rete è beabri con betweeness centrality = 0.0004992199620691138\n"
     ]
    }
   ],
   "source": [
    "#Betweeness Centrality\n",
    "#calcola il nodo più centrale della rete\n",
    "betweenness = nx.betweenness_centrality(grafo, k=50)\n",
    "nodo_betweeness = sorted(betweenness.items(),key=lambda x:x[1],reverse=True)[0]\n",
    "nome_betweeness = assegna_id[assegna_id[\"id_nodo\"]==nodo_betweeness[0]][\"etichetta\"].values[0]\n",
    "print(\"Il nodo più centrale della rete è \" + nome_betweeness + \" con betweeness centrality = \" + str(nodo_betweeness[1]))"
   ]
  },
  {
   "cell_type": "code",
   "execution_count": 26,
   "metadata": {},
   "outputs": [
    {
     "name": "stdout",
     "output_type": "stream",
     "text": [
      "Nome Hub           Closeness Centrality\n",
      "---------------  ----------------------\n",
      "radio_zek                    0.0998773\n",
      "AUniversale                  0.0628554\n",
      "realUmbertoLM                0.0970224\n",
      "francescatotolo              0.0466301\n",
      "beabri                       0.0891618\n",
      "Giorgiolaporta               0.0288977\n",
      "LauraPausini                 0.028966\n",
      "marco_gervasoni              0.0239327\n",
      "mediohoriente                0.0238497\n",
      "VujaBoskov                   0.020838\n",
      "gracewee79                   0.0164058\n",
      "AlbertoLetizia2              0.0145509\n",
      "catlatorre                   0.0154977\n",
      "BeppeSala                    0.0133223\n",
      "IoSonoLibera3                0.0144981\n",
      "DarioBallini                 0.0106532\n",
      "XFactor_Italia               0.0114408\n",
      "Link4Universe                0.0108809\n",
      "fnicodemo                    0.0145503\n",
      "Gianmar26145917              0.0101804\n",
      "meb                          0.00985336\n",
      "roberta_fasani               0.00960512\n",
      "MilanoPride                  0.0784316\n",
      "rubio_chef                   0.00964126\n",
      "PrimeVideoIT                 0.0095059\n",
      "perchetendenza               0.0343579\n"
     ]
    }
   ],
   "source": [
    "#closeness centrality degli hub\n",
    "table_closeness=[]\n",
    "for hub in sort_lista_hubs:\n",
    "    nodo = int(hub.split(\",\")[0])\n",
    "    nome_hub = hub.split(\",\")[1]\n",
    "    closeness = nx.closeness_centrality(grafo, u=nodo, distance=None)\n",
    "    table_closeness.append([str(nome_hub),  str(closeness)])\n",
    "    \n",
    "print(tabulate(table_closeness, headers=['Nome Hub', 'Closeness Centrality']))"
   ]
  },
  {
   "cell_type": "markdown",
   "metadata": {},
   "source": [
    "<h2>Community Detection</h2>"
   ]
  },
  {
   "cell_type": "markdown",
   "metadata": {},
   "source": [
    "<h4>Network Centric community detection: <br><br>\n",
    "    Massimizzazione della modularità utilizzando le euristiche di Louvain</h4>"
   ]
  },
  {
   "cell_type": "code",
   "execution_count": 57,
   "metadata": {},
   "outputs": [],
   "source": [
    "# grafo non orientato\n",
    "grafo_non_orientato = grafo.to_undirected()"
   ]
  },
  {
   "cell_type": "code",
   "execution_count": 58,
   "metadata": {},
   "outputs": [],
   "source": [
    "partition=community_louvain.best_partition(grafo_non_orientato, resolution=10.0)"
   ]
  },
  {
   "cell_type": "code",
   "execution_count": 59,
   "metadata": {},
   "outputs": [
    {
     "name": "stdout",
     "output_type": "stream",
     "text": [
      "0.48032420305728923\n"
     ]
    }
   ],
   "source": [
    "print (community_louvain.modularity(partition, grafo_non_orientato))"
   ]
  },
  {
   "cell_type": "code",
   "execution_count": 60,
   "metadata": {},
   "outputs": [
    {
     "name": "stdout",
     "output_type": "stream",
     "text": [
      "# Community: 363\n"
     ]
    }
   ],
   "source": [
    "community = {}\n",
    "for item in partition.values():\n",
    "    if item in community:\n",
    "        community[item]=community[item]+1\n",
    "    else:\n",
    "        community[item]=1\n",
    "print (\"# Community: \" + str(len(community)))"
   ]
  },
  {
   "cell_type": "code",
   "execution_count": 61,
   "metadata": {},
   "outputs": [],
   "source": [
    "sort_community = sorted(community.items(), key=lambda x: x[1], reverse=True)"
   ]
  },
  {
   "cell_type": "markdown",
   "metadata": {},
   "source": [
    "Data l'alta numerosità delle community, si tengono in considerazione solo quelle con un numero di nodi significativo "
   ]
  },
  {
   "cell_type": "code",
   "execution_count": 62,
   "metadata": {},
   "outputs": [
    {
     "name": "stdout",
     "output_type": "stream",
     "text": [
      "  Community    Numero nodi nella community\n",
      "-----------  -----------------------------\n",
      "          0                           7892\n",
      "          1                           2500\n",
      "         31                            363\n",
      "         27                             74\n",
      "         42                             67\n",
      "         30                             59\n",
      "        233                             39\n",
      "         45                             27\n",
      "         89                             23\n",
      "        235                             23\n"
     ]
    }
   ],
   "source": [
    "print(tabulate(sort_community[0:10], headers=['Community', 'Numero nodi nella community']))"
   ]
  },
  {
   "cell_type": "code",
   "execution_count": 63,
   "metadata": {},
   "outputs": [],
   "source": [
    "dbCommunity = pd.DataFrame()\n",
    "dbCommunity[\"nodo\"]=partition.keys()\n",
    "dbCommunity[\"community\"]=partition.values()"
   ]
  },
  {
   "cell_type": "code",
   "execution_count": 64,
   "metadata": {},
   "outputs": [
    {
     "data": {
      "text/plain": [
       "<matplotlib.axes._subplots.AxesSubplot at 0x1524c70e0b8>"
      ]
     },
     "execution_count": 64,
     "metadata": {},
     "output_type": "execute_result"
    },
    {
     "data": {
      "image/png": "[encoded data removed]",
      "text/plain": [
       "<Figure size 720x360 with 1 Axes>"
      ]
     },
     "metadata": {
      "needs_background": "light"
     },
     "output_type": "display_data"
    }
   ],
   "source": [
    "dbCommunity[\"community\"].value_counts().head(10).plot(kind='barh',figsize=(10,5))"
   ]
  },
  {
   "cell_type": "markdown",
   "metadata": {},
   "source": [
    "Estrapolazione della community di ogni hub, per etichettare le community in base agli hub che contiene"
   ]
  },
  {
   "cell_type": "code",
   "execution_count": 65,
   "metadata": {},
   "outputs": [
    {
     "name": "stdout",
     "output_type": "stream",
     "text": [
      "Nome Hub           Community\n",
      "---------------  -----------\n",
      "radio_zek                  0\n",
      "AUniversale                0\n",
      "realUmbertoLM              1\n",
      "francescatotolo            1\n",
      "beabri                     0\n",
      "Giorgiolaporta             1\n",
      "LauraPausini              31\n",
      "marco_gervasoni            1\n",
      "mediohoriente              0\n",
      "VujaBoskov                 0\n",
      "gracewee79                 0\n",
      "AlbertoLetizia2            0\n",
      "catlatorre                 0\n",
      "BeppeSala                  0\n",
      "IoSonoLibera3              1\n",
      "DarioBallini               0\n",
      "XFactor_Italia             0\n",
      "Link4Universe              0\n",
      "fnicodemo                  0\n",
      "Gianmar26145917            1\n",
      "meb                        0\n",
      "roberta_fasani             1\n",
      "MilanoPride                0\n",
      "rubio_chef                 0\n",
      "PrimeVideoIT               0\n",
      "perchetendenza             0\n"
     ]
    }
   ],
   "source": [
    "table_community=[]\n",
    "for hub in sort_lista_hubs:\n",
    "    nome_hub = hub.split(\",\")[1]\n",
    "    var = dbCommunity[dbCommunity[\"nodo\"]==int(hub.split(\",\")[0])][\"community\"].values[0]\n",
    "    table_community.append([str(nome_hub),  str(var)])\n",
    "    \n",
    "print(tabulate(table_community, headers=['Nome Hub', 'Community']))"
   ]
  },
  {
   "cell_type": "code",
   "execution_count": 221,
   "metadata": {},
   "outputs": [
    {
     "data": {
      "text/html": [
       "<div>\n",
       "<style scoped>\n",
       "    .dataframe tbody tr th:only-of-type {\n",
       "        vertical-align: middle;\n",
       "    }\n",
       "\n",
       "    .dataframe tbody tr th {\n",
       "        vertical-align: top;\n",
       "    }\n",
       "\n",
       "    .dataframe thead th {\n",
       "        text-align: right;\n",
       "    }\n",
       "</style>\n",
       "<table border=\"1\" class=\"dataframe\">\n",
       "  <thead>\n",
       "    <tr style=\"text-align: right;\">\n",
       "      <th></th>\n",
       "      <th>nodo</th>\n",
       "      <th>community</th>\n",
       "    </tr>\n",
       "  </thead>\n",
       "  <tbody>\n",
       "    <tr>\n",
       "      <th>0</th>\n",
       "      <td>0</td>\n",
       "      <td>0</td>\n",
       "    </tr>\n",
       "    <tr>\n",
       "      <th>1</th>\n",
       "      <td>791</td>\n",
       "      <td>0</td>\n",
       "    </tr>\n",
       "    <tr>\n",
       "      <th>2</th>\n",
       "      <td>1</td>\n",
       "      <td>0</td>\n",
       "    </tr>\n",
       "    <tr>\n",
       "      <th>3</th>\n",
       "      <td>2</td>\n",
       "      <td>0</td>\n",
       "    </tr>\n",
       "    <tr>\n",
       "      <th>4</th>\n",
       "      <td>11313</td>\n",
       "      <td>0</td>\n",
       "    </tr>\n",
       "  </tbody>\n",
       "</table>\n",
       "</div>"
      ],
      "text/plain": [
       "    nodo  community\n",
       "0      0          0\n",
       "1    791          0\n",
       "2      1          0\n",
       "3      2          0\n",
       "4  11313          0"
      ]
     },
     "execution_count": 221,
     "metadata": {},
     "output_type": "execute_result"
    }
   ],
   "source": [
    "dbCommunity.head()"
   ]
  },
  {
   "cell_type": "code",
   "execution_count": 223,
   "metadata": {},
   "outputs": [
    {
     "name": "stderr",
     "output_type": "stream",
     "text": [
      "c:\\users\\francesca franzese\\appdata\\local\\programs\\python\\python37\\lib\\site-packages\\ipykernel_launcher.py:5: SettingWithCopyWarning: \n",
      "A value is trying to be set on a copy of a slice from a DataFrame\n",
      "\n",
      "See the caveats in the documentation: http://pandas.pydata.org/pandas-docs/stable/indexing.html#indexing-view-versus-copy\n",
      "  \"\"\"\n",
      "c:\\users\\francesca franzese\\appdata\\local\\programs\\python\\python37\\lib\\site-packages\\pandas\\core\\indexing.py:189: SettingWithCopyWarning: \n",
      "A value is trying to be set on a copy of a slice from a DataFrame\n",
      "\n",
      "See the caveats in the documentation: http://pandas.pydata.org/pandas-docs/stable/indexing.html#indexing-view-versus-copy\n",
      "  **Indexing both axes**\n"
     ]
    }
   ],
   "source": [
    "dbCommunity[\"nome_nodo\"] = np.nan\n",
    "\n",
    "for index, elem in dbCommunity.iterrows():\n",
    "    nome_utente = assegna_id[assegna_id[\"id_nodo\"]==dbCommunity[\"nodo\"][index]][\"etichetta\"].values[0]\n",
    "    dbCommunity[\"nome_nodo\"][index] = nome_utente"
   ]
  },
  {
   "cell_type": "code",
   "execution_count": 224,
   "metadata": {},
   "outputs": [
    {
     "data": {
      "text/html": [
       "<div>\n",
       "<style scoped>\n",
       "    .dataframe tbody tr th:only-of-type {\n",
       "        vertical-align: middle;\n",
       "    }\n",
       "\n",
       "    .dataframe tbody tr th {\n",
       "        vertical-align: top;\n",
       "    }\n",
       "\n",
       "    .dataframe thead th {\n",
       "        text-align: right;\n",
       "    }\n",
       "</style>\n",
       "<table border=\"1\" class=\"dataframe\">\n",
       "  <thead>\n",
       "    <tr style=\"text-align: right;\">\n",
       "      <th></th>\n",
       "      <th>nodo</th>\n",
       "      <th>community</th>\n",
       "      <th>nome_nodo</th>\n",
       "    </tr>\n",
       "  </thead>\n",
       "  <tbody>\n",
       "    <tr>\n",
       "      <th>0</th>\n",
       "      <td>0</td>\n",
       "      <td>0</td>\n",
       "      <td>pietro_carli_69</td>\n",
       "    </tr>\n",
       "    <tr>\n",
       "      <th>1</th>\n",
       "      <td>791</td>\n",
       "      <td>0</td>\n",
       "      <td>vladiluxuria</td>\n",
       "    </tr>\n",
       "    <tr>\n",
       "      <th>2</th>\n",
       "      <td>1</td>\n",
       "      <td>0</td>\n",
       "      <td>AnnaritaNinni</td>\n",
       "    </tr>\n",
       "    <tr>\n",
       "      <th>3</th>\n",
       "      <td>2</td>\n",
       "      <td>0</td>\n",
       "      <td>RilkeRainer</td>\n",
       "    </tr>\n",
       "    <tr>\n",
       "      <th>4</th>\n",
       "      <td>11313</td>\n",
       "      <td>0</td>\n",
       "      <td>gayit</td>\n",
       "    </tr>\n",
       "  </tbody>\n",
       "</table>\n",
       "</div>"
      ],
      "text/plain": [
       "    nodo  community        nome_nodo\n",
       "0      0          0  pietro_carli_69\n",
       "1    791          0     vladiluxuria\n",
       "2      1          0    AnnaritaNinni\n",
       "3      2          0      RilkeRainer\n",
       "4  11313          0            gayit"
      ]
     },
     "execution_count": 224,
     "metadata": {},
     "output_type": "execute_result"
    }
   ],
   "source": [
    "dbCommunity.head()"
   ]
  },
  {
   "cell_type": "code",
   "execution_count": 230,
   "metadata": {},
   "outputs": [
    {
     "ename": "ImportError",
     "evalue": "cannot import name 'get_compression_method' from 'pandas.io.common' (c:\\users\\francesca franzese\\appdata\\local\\programs\\python\\python37\\lib\\site-packages\\pandas\\io\\common.py)",
     "output_type": "error",
     "traceback": [
      "\u001b[1;31m---------------------------------------------------------------------------\u001b[0m",
      "\u001b[1;31mImportError\u001b[0m                               Traceback (most recent call last)",
      "\u001b[1;32m<ipython-input-230-54ad491a6d97>\u001b[0m in \u001b[0;36m<module>\u001b[1;34m\u001b[0m\n\u001b[0;32m      1\u001b[0m \u001b[1;33m\u001b[0m\u001b[0m\n\u001b[0;32m      2\u001b[0m \u001b[1;31m# Salvataggio di dbCommunity in un file .csv\u001b[0m\u001b[1;33m\u001b[0m\u001b[1;33m\u001b[0m\u001b[1;33m\u001b[0m\u001b[0m\n\u001b[1;32m----> 3\u001b[1;33m \u001b[0mdbCommunity\u001b[0m\u001b[1;33m.\u001b[0m\u001b[0mto_csv\u001b[0m\u001b[1;33m(\u001b[0m\u001b[1;34m'dbCommunity.csv'\u001b[0m\u001b[1;33m,\u001b[0m\u001b[0mindex\u001b[0m \u001b[1;33m=\u001b[0m \u001b[1;32mFalse\u001b[0m\u001b[1;33m,\u001b[0m\u001b[0mencoding\u001b[0m\u001b[1;33m=\u001b[0m\u001b[1;34m'utf-8'\u001b[0m\u001b[1;33m)\u001b[0m\u001b[1;33m\u001b[0m\u001b[1;33m\u001b[0m\u001b[0m\n\u001b[0m",
      "\u001b[1;32mc:\\users\\francesca franzese\\appdata\\local\\programs\\python\\python37\\lib\\site-packages\\pandas\\core\\frame.py\u001b[0m in \u001b[0;36mto_csv\u001b[1;34m(self, path_or_buf, sep, na_rep, float_format, columns, header, index, index_label, mode, encoding, compression, quoting, quotechar, line_terminator, chunksize, tupleize_cols, date_format, doublequote, escapechar, decimal)\u001b[0m\n\u001b[0;32m   1730\u001b[0m         \u001b[0mb\u001b[0m  \u001b[1;36m2\u001b[0m  \u001b[1;36m0.75\u001b[0m\u001b[1;33m\u001b[0m\u001b[1;33m\u001b[0m\u001b[0m\n\u001b[0;32m   1731\u001b[0m         \u001b[1;33m>>\u001b[0m\u001b[1;33m>\u001b[0m \u001b[0mdf\u001b[0m\u001b[1;33m.\u001b[0m\u001b[0mto_records\u001b[0m\u001b[1;33m(\u001b[0m\u001b[1;33m)\u001b[0m\u001b[1;33m\u001b[0m\u001b[1;33m\u001b[0m\u001b[0m\n\u001b[1;32m-> 1732\u001b[1;33m         rec.array([('a', 1, 0.5 ), ('b', 2, 0.75)],\n\u001b[0m\u001b[0;32m   1733\u001b[0m                   dtype=[('index', 'O'), ('A', '<i8'), ('B', '<f8')])\n\u001b[0;32m   1734\u001b[0m \u001b[1;33m\u001b[0m\u001b[0m\n",
      "\u001b[1;32mc:\\users\\francesca franzese\\appdata\\local\\programs\\python\\python37\\lib\\site-packages\\pandas\\io\\formats\\csvs.py\u001b[0m in \u001b[0;36m<module>\u001b[1;34m\u001b[0m\n\u001b[0;32m     23\u001b[0m \u001b[1;32mfrom\u001b[0m \u001b[0mpandas\u001b[0m\u001b[1;33m.\u001b[0m\u001b[0mcore\u001b[0m\u001b[1;33m.\u001b[0m\u001b[0mdtypes\u001b[0m\u001b[1;33m.\u001b[0m\u001b[0mmissing\u001b[0m \u001b[1;32mimport\u001b[0m \u001b[0mnotna\u001b[0m\u001b[1;33m\u001b[0m\u001b[1;33m\u001b[0m\u001b[0m\n\u001b[0;32m     24\u001b[0m \u001b[1;33m\u001b[0m\u001b[0m\n\u001b[1;32m---> 25\u001b[1;33m from pandas.io.common import (\n\u001b[0m\u001b[0;32m     26\u001b[0m     \u001b[0mget_compression_method\u001b[0m\u001b[1;33m,\u001b[0m\u001b[1;33m\u001b[0m\u001b[1;33m\u001b[0m\u001b[0m\n\u001b[0;32m     27\u001b[0m     \u001b[0mget_filepath_or_buffer\u001b[0m\u001b[1;33m,\u001b[0m\u001b[1;33m\u001b[0m\u001b[1;33m\u001b[0m\u001b[0m\n",
      "\u001b[1;31mImportError\u001b[0m: cannot import name 'get_compression_method' from 'pandas.io.common' (c:\\users\\francesca franzese\\appdata\\local\\programs\\python\\python37\\lib\\site-packages\\pandas\\io\\common.py)"
     ]
    }
   ],
   "source": [
    "# Salvataggio di dbCommunity in un file .csv\n",
    "dbCommunity.to_csv('dbCommunity.csv',index = False,encoding='utf-8')"
   ]
  },
  {
   "cell_type": "markdown",
   "metadata": {},
   "source": [
    "<h4>Hierarchy Centric community detection:<br><br>Algoritmo di Girvan-Newman</h4>"
   ]
  },
  {
   "cell_type": "code",
   "execution_count": 81,
   "metadata": {
    "scrolled": true
   },
   "outputs": [],
   "source": [
    "import itertools\n",
    "from networkx.algorithms import community\n",
    "\n",
    "community_garvin = []\n",
    "\n",
    "G = nx.path_graph(grafo)\n",
    "k = 10\n",
    "comp = community.girvan_newman(G)\n",
    "limited = itertools.takewhile(lambda c: len(c) <= k, comp)\n",
    "nome_com = 0\n",
    "for communities in limited:\n",
    "    community_garvin = tuple(sorted(c) for c in communities)   "
   ]
  },
  {
   "cell_type": "code",
   "execution_count": 82,
   "metadata": {},
   "outputs": [
    {
     "name": "stdout",
     "output_type": "stream",
     "text": [
      "  Community    Numero nodi nella community\n",
      "-----------  -----------------------------\n",
      "          0                           1522\n",
      "          1                            761\n",
      "          2                            762\n",
      "          3                            761\n",
      "          4                            762\n",
      "          5                           1523\n",
      "          6                           1522\n",
      "          7                           1523\n",
      "          8                           1523\n",
      "          9                           1523\n"
     ]
    }
   ],
   "source": [
    "indici = range(0,10)\n",
    "stringa = []\n",
    "for index in indici:\n",
    "    stringa.append([str(index),  str(len(community_garvin[index]))])\n",
    "    \n",
    "print(tabulate(stringa, headers=['Community', 'Numero nodi nella community']))"
   ]
  },
  {
   "cell_type": "code",
   "execution_count": 83,
   "metadata": {},
   "outputs": [
    {
     "name": "stdout",
     "output_type": "stream",
     "text": [
      "Nome Hub           Community\n",
      "---------------  -----------\n",
      "radio_zek                  0\n",
      "AUniversale                3\n",
      "realUmbertoLM              0\n",
      "francescatotolo            0\n",
      "beabri                     0\n",
      "Giorgiolaporta             0\n",
      "LauraPausini               2\n",
      "marco_gervasoni            1\n",
      "mediohoriente              5\n",
      "VujaBoskov                 5\n",
      "gracewee79                 5\n",
      "AlbertoLetizia2            9\n",
      "catlatorre                 7\n",
      "BeppeSala                  5\n",
      "IoSonoLibera3              0\n",
      "DarioBallini               0\n",
      "XFactor_Italia             6\n",
      "Link4Universe              0\n",
      "fnicodemo                  3\n",
      "Gianmar26145917            0\n",
      "meb                        0\n",
      "roberta_fasani             7\n",
      "MilanoPride                0\n",
      "rubio_chef                 4\n",
      "PrimeVideoIT               5\n",
      "perchetendenza             6\n"
     ]
    }
   ],
   "source": [
    "table_community_garvin=[]\n",
    "for hub in sort_lista_hubs:\n",
    "    var = []\n",
    "    nome_hub = hub.split(\",\")[1]\n",
    "    for index in indici:\n",
    "        if int(hub.split(\",\")[0]) in community_garvin[index]:\n",
    "            var=str(index)\n",
    "    table_community_garvin.append([str(nome_hub),  var])\n",
    "    \n",
    "print(tabulate(table_community_garvin, headers=['Nome Hub', 'Community']))"
   ]
  },
  {
   "cell_type": "markdown",
   "metadata": {},
   "source": [
    "<h4>Valutazione della community detection eseguita con Garvin Newman</h4>"
   ]
  },
  {
   "cell_type": "code",
   "execution_count": 208,
   "metadata": {},
   "outputs": [],
   "source": [
    "indici_louvain_sorted = []\n",
    "for index in range(0, len(sort_community)):\n",
    "    indici_louvain_sorted.append(sort_community[index][0])\n",
    "    \n",
    "stringa_louvain = []\n",
    "for elem in indici_louvain_sorted:\n",
    "    stringa_louvain.append(dbCommunity[dbCommunity[\"community\"]==elem][\"nodo\"].values)"
   ]
  },
  {
   "cell_type": "code",
   "execution_count": 217,
   "metadata": {},
   "outputs": [
    {
     "name": "stdout",
     "output_type": "stream",
     "text": [
      "                               Value\n",
      "Index                               \n",
      "Ground Truth Communities  362.000000\n",
      "Identified Communities     10.000000\n",
      "Community Ratio             0.027624\n",
      "Ground Truth Matched        0.008287\n",
      "Node Coverage               1.000000\n",
      "NF1                         0.000577\n"
     ]
    }
   ],
   "source": [
    "from nf1 import NF1\n",
    "import networkx as nx\n",
    "from networkx.algorithms import community\n",
    "\n",
    "#garvin\n",
    "garvin=list(community_garvin)\n",
    "garvin_coms = [tuple(x) for x in garvin]\n",
    "\n",
    "#louvain\n",
    "louvain=list(stringa_louvain)\n",
    "louvain_coms = [tuple(x) for x in louvain]\n",
    "\n",
    "\n",
    "nf = NF1(garvin,louvain_coms)\n",
    "results = nf.summary()\n",
    "print(results['scores'])"
   ]
  },
  {
   "cell_type": "code",
   "execution_count": null,
   "metadata": {},
   "outputs": [],
   "source": []
  }
 ],
 "metadata": {
  "kernelspec": {
   "display_name": "Python 3",
   "language": "python",
   "name": "python3"
  },
  "language_info": {
   "codemirror_mode": {
    "name": "ipython",
    "version": 3
   },
   "file_extension": ".py",
   "mimetype": "text/x-python",
   "name": "python",
   "nbconvert_exporter": "python",
   "pygments_lexer": "ipython3",
   "version": "3.6.8"
  }
 },
 "nbformat": 4,
 "nbformat_minor": 2
}
